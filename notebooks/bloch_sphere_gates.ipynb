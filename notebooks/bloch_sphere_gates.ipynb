{
  "cells": [
    {
      "cell_type": "code",
      "execution_count": null,
      "metadata": {},
      "outputs": [],
      "source": [
        "# Quick demo of Bloch sphere gate sequence\n",
        "from qiskit import QuantumCircuit\n",
        "from utils.gate_utils import apply_gates, sequence_to_bloch_path\n",
        "from app.components import make_bloch_figure\n",
        "\n",
        "# Define a sequence\n",
        "sequence = [\"H\", \"Rz(pi/2)\", \"H\"]\n",
        "\n",
        "# Apply to a circuit\n",
        "qc = apply_gates(QuantumCircuit(1), sequence)\n",
        "\n",
        "# Get bloch path and plot\n",
        "path = sequence_to_bloch_path(sequence)\n",
        "fig = make_bloch_figure(path)\n",
        "fig\n"
      ]
    },
    {
      "cell_type": "code",
      "execution_count": null,
      "metadata": {},
      "outputs": [],
      "source": [
        "# QuTiP-based Bloch visualization (optional)\n",
        "# pip install -r ../requirements-optional.txt\n",
        "from utils.gate_utils import sequence_to_bloch_path\n",
        "\n",
        "try:\n",
        "    from app.components_qutip import qutip_bloch_renderer\n",
        "    path = sequence_to_bloch_path([\"H\", \"Rz(pi/2)\", \"H\"])\n",
        "    fig = qutip_bloch_renderer(path)\n",
        "    fig\n",
        "except Exception as e:\n",
        "    print(\"QuTiP backend not available:\", e)\n",
        "\n"
      ]
    }
  ],
  "metadata": {
    "language_info": {
      "name": "python"
    }
  },
  "nbformat": 4,
  "nbformat_minor": 2
}
